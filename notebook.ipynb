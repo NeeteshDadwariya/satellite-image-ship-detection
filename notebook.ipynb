{
  "nbformat": 4,
  "nbformat_minor": 0,
  "metadata": {
    "kernelspec": {
      "display_name": "Python 3",
      "language": "python",
      "name": "python3"
    },
    "language_info": {
      "codemirror_mode": {
        "name": "ipython",
        "version": 2
      },
      "file_extension": ".py",
      "mimetype": "text/x-python",
      "name": "python",
      "nbconvert_exporter": "python",
      "pygments_lexer": "ipython2",
      "version": "2.7.6"
    },
    "colab": {
      "name": "notebook.ipynb",
      "provenance": [],
      "toc_visible": true,
      "include_colab_link": true
    }
  },
  "cells": [
    {
      "cell_type": "markdown",
      "metadata": {
        "id": "view-in-github",
        "colab_type": "text"
      },
      "source": [
        "<a href=\"https://colab.research.google.com/github/NeeteshDadwariya/satellite-image-ship-detection/blob/master/notebook.ipynb\" target=\"_parent\"><img src=\"https://colab.research.google.com/assets/colab-badge.svg\" alt=\"Open In Colab\"/></a>"
      ]
    },
    {
      "cell_type": "code",
      "metadata": {
        "id": "S81pVpOMlgdh",
        "colab_type": "code",
        "colab": {}
      },
      "source": [
        "\n",
        "#Install requirements\n",
        "#!pip install Pillow \n"
      ],
      "execution_count": 7,
      "outputs": []
    },
    {
      "cell_type": "code",
      "metadata": {
        "id": "5bz2T1zsKgbX",
        "colab_type": "code",
        "colab": {}
      },
      "source": [
        "#Define constants.\n",
        "DRIVE_FOLDER = '/content/drive'\n",
        "MOUNTED_DRIVE_FOLDER = f'{DRIVE_FOLDER}/My Drive'\n",
        "DRIVE_SYMLINK = '/gdrive'"
      ],
      "execution_count": 27,
      "outputs": []
    },
    {
      "cell_type": "code",
      "metadata": {
        "id": "rgTtUXzZlly_",
        "colab_type": "code",
        "colab": {}
      },
      "source": [
        "#Import modules\n",
        "import numpy as np \n",
        "import pandas as pd \n",
        "import matplotlib.pyplot as plt\n",
        "from skimage.morphology import label\n",
        "from skimage.io import imread\n",
        "from google.colab import drive\n",
        "\n",
        "import os\n",
        "import time\n",
        "import sys"
      ],
      "execution_count": 8,
      "outputs": []
    },
    {
      "cell_type": "code",
      "metadata": {
        "id": "EU_slkRyIUev",
        "colab_type": "code",
        "colab": {
          "base_uri": "https://localhost:8080/",
          "height": 34
        },
        "outputId": "c003f0c4-0fe2-4983-88ad-2b8217a178eb"
      },
      "source": [
        "#Mount google drive inside vm to access api-keys\n",
        "\n",
        "# This will prompt for authorization.\n",
        "drive.mount(DRIVE_FOLDER)\n",
        "!ln -fs $MOUNTED_DRIVE_FOLDER $DRIVE_SYMLINK\n"
      ],
      "execution_count": 33,
      "outputs": [
        {
          "output_type": "stream",
          "text": [
            "Drive already mounted at /content/drive; to attempt to forcibly remount, call drive.mount(\"/content/drive\", force_remount=True).\n"
          ],
          "name": "stdout"
        }
      ]
    },
    {
      "cell_type": "code",
      "metadata": {
        "id": "4WhiNINDl1vb",
        "colab_type": "code",
        "colab": {}
      },
      "source": [
        "#Create necessary folders inside container\n",
        "!mkdir -p data/train data/test/"
      ],
      "execution_count": 2,
      "outputs": []
    },
    {
      "cell_type": "code",
      "metadata": {
        "id": "Fcm-apG_OPRw",
        "colab_type": "code",
        "colab": {
          "base_uri": "https://localhost:8080/",
          "height": 34
        },
        "outputId": "e268e450-5d68-410c-effb-1a0ded2874ee"
      },
      "source": [
        "!ls /gdrive/"
      ],
      "execution_count": 34,
      "outputs": [
        {
          "output_type": "stream",
          "text": [
            "api-keys\n"
          ],
          "name": "stdout"
        }
      ]
    },
    {
      "cell_type": "code",
      "metadata": {
        "id": "A_C63pX_p9o9",
        "colab_type": "code",
        "colab": {}
      },
      "source": [
        "#Download train & test data\n",
        "\n",
        "#Download data from kaggle\n",
        "!pip install -q kaggle\n"
      ],
      "execution_count": null,
      "outputs": []
    },
    {
      "cell_type": "code",
      "metadata": {
        "id": "OV-W3DzFRTqq",
        "colab_type": "code",
        "colab": {
          "base_uri": "https://localhost:8080/",
          "height": 35
        },
        "outputId": "6373baf8-f423-45a6-f781-6525c63addf1"
      },
      "source": [
        "MOUNTED_DRIVE_FOLDER"
      ],
      "execution_count": 24,
      "outputs": [
        {
          "output_type": "execute_result",
          "data": {
            "application/vnd.google.colaboratory.intrinsic+json": {
              "type": "string"
            },
            "text/plain": [
              "'/content/drive/My Drive'"
            ]
          },
          "metadata": {
            "tags": []
          },
          "execution_count": 24
        }
      ]
    },
    {
      "cell_type": "markdown",
      "metadata": {
        "id": "VrOGiHLcRTZZ",
        "colab_type": "text"
      },
      "source": [
        ""
      ]
    }
  ]
}