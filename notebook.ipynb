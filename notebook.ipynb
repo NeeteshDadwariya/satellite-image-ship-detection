{
  "nbformat": 4,
  "nbformat_minor": 0,
  "metadata": {
    "kernelspec": {
      "display_name": "Python 3",
      "language": "python",
      "name": "python3"
    },
    "language_info": {
      "codemirror_mode": {
        "name": "ipython",
        "version": 2
      },
      "file_extension": ".py",
      "mimetype": "text/x-python",
      "name": "python",
      "nbconvert_exporter": "python",
      "pygments_lexer": "ipython2",
      "version": "2.7.6"
    },
    "colab": {
      "name": "notebook.ipynb",
      "provenance": [],
      "toc_visible": true
    }
  },
  "cells": [
    {
      "cell_type": "code",
      "metadata": {
        "id": "5bz2T1zsKgbX",
        "colab_type": "code",
        "colab": {}
      },
      "source": [
        "#Define constants.\n",
        "DRIVE_FOLDER = '/content/drive'\n",
        "MOUNTED_DRIVE_FOLDER = f'{DRIVE_FOLDER}/My Drive'\n",
        "DRIVE_SYMLINK = '/gdrive'\n",
        "KAGGLE_KEY_SRC = f'{DRIVE_SYMLINK}/api-keys/.kaggle/'\n",
        "KAGGLE_KEY_DEST = '~/.kaggle/'"
      ],
      "execution_count": 67,
      "outputs": []
    },
    {
      "cell_type": "code",
      "metadata": {
        "id": "rgTtUXzZlly_",
        "colab_type": "code",
        "colab": {}
      },
      "source": [
        "#Import modules\n",
        "import numpy as np \n",
        "import pandas as pd \n",
        "import matplotlib.pyplot as plt\n",
        "from skimage.morphology import label\n",
        "from skimage.io import imread\n",
        "from google.colab import drive\n",
        "\n",
        "import os\n",
        "import time\n",
        "import sys"
      ],
      "execution_count": 8,
      "outputs": []
    },
    {
      "cell_type": "code",
      "metadata": {
        "id": "EU_slkRyIUev",
        "colab_type": "code",
        "colab": {
          "base_uri": "https://localhost:8080/",
          "height": 34
        },
        "outputId": "c003f0c4-0fe2-4983-88ad-2b8217a178eb"
      },
      "source": [
        "#Mount google drive inside vm to access api-keys\n",
        "\n",
        "# This will prompt for authorization.\n",
        "drive.mount(DRIVE_FOLDER)\n",
        "!ln -fs $MOUNTED_DRIVE_FOLDER $DRIVE_SYMLINK"
      ],
      "execution_count": 33,
      "outputs": [
        {
          "output_type": "stream",
          "text": [
            "Drive already mounted at /content/drive; to attempt to forcibly remount, call drive.mount(\"/content/drive\", force_remount=True).\n"
          ],
          "name": "stdout"
        }
      ]
    },
    {
      "cell_type": "code",
      "metadata": {
        "id": "A_C63pX_p9o9",
        "colab_type": "code",
        "colab": {}
      },
      "source": [
        "#Download data from kaggle\n",
        "\n",
        "#Copy kaggle keys to the container\n",
        "!cp -r $KAGGLE_KEY_SRC $KAGGLE_KEY_DEST\n",
        "!chmod -R 777 $KAGGLE_KEY_DEST\n",
        "#!pip install -q kaggle\n",
        "#!kaggle datasets list\n"
      ],
      "execution_count": 68,
      "outputs": []
    },
    {
      "cell_type": "code",
      "metadata": {
        "id": "4WhiNINDl1vb",
        "colab_type": "code",
        "colab": {}
      },
      "source": [
        "#Create necessary folders inside container\n",
        "!mkdir -p data/train data/test/"
      ],
      "execution_count": 2,
      "outputs": []
    },
    {
      "cell_type": "code",
      "metadata": {
        "id": "Fcm-apG_OPRw",
        "colab_type": "code",
        "colab": {
          "base_uri": "https://localhost:8080/",
          "height": 34
        },
        "outputId": "321e92b9-245a-4caa-ef1b-fd5f808209e3"
      },
      "source": [
        "!cat ~/.kaggle/kaggle.json"
      ],
      "execution_count": 69,
      "outputs": [
        {
          "output_type": "stream",
          "text": [
            "cat: /root/.kaggle/kaggle.json: No such file or directory\n"
          ],
          "name": "stdout"
        }
      ]
    },
    {
      "cell_type": "code",
      "metadata": {
        "id": "khw3Vc8cUa-q",
        "colab_type": "code",
        "colab": {
          "base_uri": "https://localhost:8080/",
          "height": 153
        },
        "outputId": "047e4d10-b202-460c-b9f1-e6262e752b92"
      },
      "source": [
        "!kaggle datasets list"
      ],
      "execution_count": 60,
      "outputs": [
        {
          "output_type": "stream",
          "text": [
            "Traceback (most recent call last):\n",
            "  File \"/usr/local/bin/kaggle\", line 5, in <module>\n",
            "    from kaggle.cli import main\n",
            "  File \"/usr/local/lib/python2.7/dist-packages/kaggle/__init__.py\", line 23, in <module>\n",
            "    api.authenticate()\n",
            "  File \"/usr/local/lib/python2.7/dist-packages/kaggle/api/kaggle_api_extended.py\", line 146, in authenticate\n",
            "    self.config_file, self.config_dir))\n",
            "IOError: Could not find kaggle.json. Make sure it's located in /root/.kaggle. Or use the environment method.\n"
          ],
          "name": "stdout"
        }
      ]
    },
    {
      "cell_type": "code",
      "metadata": {
        "id": "OV-W3DzFRTqq",
        "colab_type": "code",
        "colab": {
          "base_uri": "https://localhost:8080/",
          "height": 51
        },
        "outputId": "fd2e24fc-a6d1-4e8b-ae89-e8362bfa034f"
      },
      "source": [
        "!ls -lhrt /.kaggle/"
      ],
      "execution_count": 61,
      "outputs": [
        {
          "output_type": "stream",
          "text": [
            "total 4.0K\n",
            "-rw------- 1 root root 72 Aug 22 18:08 kaggle.json\n"
          ],
          "name": "stdout"
        }
      ]
    },
    {
      "cell_type": "markdown",
      "metadata": {
        "id": "VrOGiHLcRTZZ",
        "colab_type": "text"
      },
      "source": [
        ""
      ]
    },
    {
      "cell_type": "code",
      "metadata": {
        "id": "UltkbZncavvi",
        "colab_type": "code",
        "colab": {
          "base_uri": "https://localhost:8080/",
          "height": 34
        },
        "outputId": "535b390e-4d8e-48bd-d8a2-dadf28a3f7ae"
      },
      "source": [
        "!tree ~/.kaggle"
      ],
      "execution_count": 71,
      "outputs": [
        {
          "output_type": "stream",
          "text": [
            "/bin/bash: tree: command not found\n"
          ],
          "name": "stdout"
        }
      ]
    },
    {
      "cell_type": "code",
      "metadata": {
        "id": "Wk75TYS7a4vT",
        "colab_type": "code",
        "colab": {}
      },
      "source": [
        ""
      ],
      "execution_count": null,
      "outputs": []
    }
  ]
}