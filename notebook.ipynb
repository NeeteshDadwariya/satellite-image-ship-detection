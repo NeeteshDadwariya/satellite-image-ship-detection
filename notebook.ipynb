{
 "nbformat": 4,
 "nbformat_minor": 0,
 "metadata": {
  "kernelspec": {
   "display_name": "Python 3",
   "language": "python",
   "name": "python3"
  },
  "language_info": {
   "codemirror_mode": {
    "name": "ipython",
    "version": 2
   },
   "file_extension": ".py",
   "mimetype": "text/x-python",
   "name": "python",
   "nbconvert_exporter": "python",
   "pygments_lexer": "ipython2",
   "version": "2.7.6"
  },
  "colab": {
   "name": "notebook.ipynb",
   "provenance": [],
   "toc_visible": true,
   "include_colab_link": true
  }
 },
 "cells": [
  {
   "cell_type": "markdown",
   "source": [
    "# Loading and Checking Dataset\n",
    "\n",
    "Loading and Reshaping"
   ],
   "metadata": {
    "collapsed": false
   }
  },
  {
   "cell_type": "code",
   "execution_count": 2,
   "outputs": [
    {
     "name": "stderr",
     "output_type": "stream",
     "text": [
      "Using TensorFlow backend.\n"
     ]
    }
   ],
   "source": [
    "import numpy as np\n",
    "from numpy import expand_dims\n",
    "import pandas as pd\n",
    "import json\n",
    "import matplotlib.pyplot as plt\n",
    "\n",
    "\n",
    "from sklearn.model_selection import train_test_split\n",
    "from sklearn.model_selection import cross_val_score\n",
    "from sklearn.metrics import confusion_matrix\n",
    "from keras.utils import to_categorical\n",
    "import keras\n",
    "from keras import layers\n",
    "from keras.wrappers.scikit_learn import KerasClassifier\n",
    "from keras.models import Sequential\n",
    "from keras.layers import Dense, Dropout, Flatten, Conv2D, MaxPool2D\n",
    "from keras.optimizers import RMSprop,Adam\n",
    "from keras.preprocessing.image import ImageDataGenerator\n",
    "from keras.callbacks import EarlyStopping"
   ],
   "metadata": {
    "collapsed": false,
    "pycharm": {
     "name": "#%%\n"
    }
   }
  },
  {
   "cell_type": "code",
   "execution_count": 3,
   "outputs": [
    {
     "data": {
      "text/plain": "                                                data  labels  \\\n0  [82, 89, 91, 87, 89, 87, 86, 86, 86, 86, 84, 8...       1   \n1  [76, 75, 67, 62, 68, 72, 73, 73, 68, 69, 69, 6...       1   \n2  [125, 127, 129, 130, 126, 125, 129, 133, 132, ...       1   \n3  [102, 99, 113, 106, 96, 102, 105, 105, 103, 10...       1   \n4  [78, 76, 74, 78, 79, 79, 79, 82, 86, 85, 83, 8...       1   \n\n                                   locations             scene_ids  \n0    [-118.2254694333423, 33.73803725920789]  20180708_180909_0f47  \n1    [-122.33222866289329, 37.7491755586813]  20170705_180816_103e  \n2  [-118.14283073363218, 33.736016066914175]  20180712_211331_0f06  \n3   [-122.34784341495181, 37.76648707436548]  20170609_180756_103a  \n4   [-122.34852408322172, 37.75878462398653]  20170515_180653_1007  ",
      "text/html": "<div>\n<style scoped>\n    .dataframe tbody tr th:only-of-type {\n        vertical-align: middle;\n    }\n\n    .dataframe tbody tr th {\n        vertical-align: top;\n    }\n\n    .dataframe thead th {\n        text-align: right;\n    }\n</style>\n<table border=\"1\" class=\"dataframe\">\n  <thead>\n    <tr style=\"text-align: right;\">\n      <th></th>\n      <th>data</th>\n      <th>labels</th>\n      <th>locations</th>\n      <th>scene_ids</th>\n    </tr>\n  </thead>\n  <tbody>\n    <tr>\n      <th>0</th>\n      <td>[82, 89, 91, 87, 89, 87, 86, 86, 86, 86, 84, 8...</td>\n      <td>1</td>\n      <td>[-118.2254694333423, 33.73803725920789]</td>\n      <td>20180708_180909_0f47</td>\n    </tr>\n    <tr>\n      <th>1</th>\n      <td>[76, 75, 67, 62, 68, 72, 73, 73, 68, 69, 69, 6...</td>\n      <td>1</td>\n      <td>[-122.33222866289329, 37.7491755586813]</td>\n      <td>20170705_180816_103e</td>\n    </tr>\n    <tr>\n      <th>2</th>\n      <td>[125, 127, 129, 130, 126, 125, 129, 133, 132, ...</td>\n      <td>1</td>\n      <td>[-118.14283073363218, 33.736016066914175]</td>\n      <td>20180712_211331_0f06</td>\n    </tr>\n    <tr>\n      <th>3</th>\n      <td>[102, 99, 113, 106, 96, 102, 105, 105, 103, 10...</td>\n      <td>1</td>\n      <td>[-122.34784341495181, 37.76648707436548]</td>\n      <td>20170609_180756_103a</td>\n    </tr>\n    <tr>\n      <th>4</th>\n      <td>[78, 76, 74, 78, 79, 79, 79, 82, 86, 85, 83, 8...</td>\n      <td>1</td>\n      <td>[-122.34852408322172, 37.75878462398653]</td>\n      <td>20170515_180653_1007</td>\n    </tr>\n  </tbody>\n</table>\n</div>"
     },
     "execution_count": 3,
     "metadata": {},
     "output_type": "execute_result"
    }
   ],
   "source": [
    "with open('data/shipsnet.json') as data_file:\n",
    "    dataset = json.load(data_file)\n",
    "shipsnet= pd.DataFrame(dataset)\n",
    "shipsnet.head()"
   ],
   "metadata": {
    "collapsed": false,
    "pycharm": {
     "name": "#%%\n"
    }
   }
  },
  {
   "cell_type": "code",
   "execution_count": 4,
   "outputs": [
    {
     "name": "stdout",
     "output_type": "stream",
     "text": [
      "<class 'pandas.core.frame.DataFrame'>\n",
      "RangeIndex: 4000 entries, 0 to 3999\n",
      "Data columns (total 4 columns):\n",
      " #   Column     Non-Null Count  Dtype \n",
      "---  ------     --------------  ----- \n",
      " 0   data       4000 non-null   object\n",
      " 1   labels     4000 non-null   int64 \n",
      " 2   locations  4000 non-null   object\n",
      " 3   scene_ids  4000 non-null   object\n",
      "dtypes: int64(1), object(3)\n",
      "memory usage: 125.1+ KB\n"
     ]
    }
   ],
   "source": [
    "shipsnet.info()"
   ],
   "metadata": {
    "collapsed": false,
    "pycharm": {
     "name": "#%%\n"
    }
   }
  },
  {
   "cell_type": "code",
   "execution_count": 54,
   "outputs": [
    {
     "data": {
      "text/plain": "19200"
     },
     "execution_count": 54,
     "metadata": {},
     "output_type": "execute_result"
    }
   ],
   "source": [
    "img_arr = np.asarray(shipsnet['data'])\n",
    "len(img_arr[0])"
   ],
   "metadata": {
    "collapsed": false,
    "pycharm": {
     "name": "#%%\n"
    }
   }
  },
  {
   "cell_type": "code",
   "execution_count": 70,
   "outputs": [
    {
     "name": "stdout",
     "output_type": "stream",
     "text": [
      "[82 89 91 ... 88 89 90]\n",
      "[ 94  99 101 ... 101 102 102]\n",
      "[80 86 89 ... 86 88 89]\n"
     ]
    }
   ],
   "source": [
    "x = np.asarray(img_arr[0]).reshape(3,-1)\n",
    "print(x[0])\n",
    "print(x[1])\n",
    "print(x[2])"
   ],
   "metadata": {
    "collapsed": false,
    "pycharm": {
     "name": "#%%\n"
    }
   }
  },
  {
   "cell_type": "code",
   "execution_count": 68,
   "outputs": [
    {
     "name": "stdout",
     "output_type": "stream",
     "text": [
      "[82 94 80]\n"
     ]
    }
   ],
   "source": [
    "x = np.asarray(img_arr[0]).reshape(3,-1).T\n",
    "print(x[0])"
   ],
   "metadata": {
    "collapsed": false,
    "pycharm": {
     "name": "#%%\n"
    }
   }
  },
  {
   "cell_type": "code",
   "source": [
    "img2 = np.asarray(img_arr[0]).reshape(3,-1).T.reshape(80,-1,3)\n",
    "plt.imshow(img2)"
   ],
   "metadata": {
    "collapsed": false,
    "pycharm": {
     "name": "#%%\n"
    }
   },
   "execution_count": null,
   "outputs": []
  },
  {
   "cell_type": "code",
   "execution_count": 72,
   "outputs": [
    {
     "name": "stdout",
     "output_type": "stream",
     "text": [
      "[[[  0  10]\n",
      "  [ 20  30]]\n",
      "\n",
      " [[ 40  50]\n",
      "  [ 60  70]]\n",
      "\n",
      " [[ 80  90]\n",
      "  [100 110]]]\n"
     ]
    }
   ],
   "source": [
    "x = [0, 10, 20,30,40,50,60,70,80,90, 100, 110]\n",
    "x = np.asarray(x).reshape(3, 2,2)\n",
    "print(x)\n"
   ],
   "metadata": {
    "collapsed": false,
    "pycharm": {
     "name": "#%%\n"
    }
   }
  },
  {
   "cell_type": "code",
   "execution_count": 50,
   "outputs": [
    {
     "data": {
      "text/plain": "(4000, 3, 80, 80)"
     },
     "execution_count": 50,
     "metadata": {},
     "output_type": "execute_result"
    }
   ],
   "source": [
    "single_img_arr.shape"
   ],
   "metadata": {
    "collapsed": false,
    "pycharm": {
     "name": "#%%\n"
    }
   }
  },
  {
   "cell_type": "code",
   "execution_count": 52,
   "outputs": [
    {
     "ename": "TypeError",
     "evalue": "Invalid shape (3, 80, 80) for image data",
     "output_type": "error",
     "traceback": [
      "\u001B[0;31m---------------------------------------------------------------------------\u001B[0m",
      "\u001B[0;31mTypeError\u001B[0m                                 Traceback (most recent call last)",
      "\u001B[0;32m<ipython-input-52-d83985038d6e>\u001B[0m in \u001B[0;36m<module>\u001B[0;34m\u001B[0m\n\u001B[0;32m----> 1\u001B[0;31m \u001B[0mplt\u001B[0m\u001B[0;34m.\u001B[0m\u001B[0mimshow\u001B[0m\u001B[0;34m(\u001B[0m\u001B[0msingle_img_arr\u001B[0m\u001B[0;34m[\u001B[0m\u001B[0;36m0\u001B[0m\u001B[0;34m]\u001B[0m\u001B[0;34m)\u001B[0m\u001B[0;34m\u001B[0m\u001B[0;34m\u001B[0m\u001B[0m\n\u001B[0m",
      "\u001B[0;32m~/opt/anaconda3/envs/satellite-image-ship-detection/lib/python3.7/site-packages/matplotlib/pyplot.py\u001B[0m in \u001B[0;36mimshow\u001B[0;34m(X, cmap, norm, aspect, interpolation, alpha, vmin, vmax, origin, extent, filternorm, filterrad, resample, url, data, **kwargs)\u001B[0m\n\u001B[1;32m   2712\u001B[0m         \u001B[0mfilternorm\u001B[0m\u001B[0;34m=\u001B[0m\u001B[0mfilternorm\u001B[0m\u001B[0;34m,\u001B[0m \u001B[0mfilterrad\u001B[0m\u001B[0;34m=\u001B[0m\u001B[0mfilterrad\u001B[0m\u001B[0;34m,\u001B[0m \u001B[0mresample\u001B[0m\u001B[0;34m=\u001B[0m\u001B[0mresample\u001B[0m\u001B[0;34m,\u001B[0m\u001B[0;34m\u001B[0m\u001B[0;34m\u001B[0m\u001B[0m\n\u001B[1;32m   2713\u001B[0m         \u001B[0murl\u001B[0m\u001B[0;34m=\u001B[0m\u001B[0murl\u001B[0m\u001B[0;34m,\u001B[0m \u001B[0;34m**\u001B[0m\u001B[0;34m(\u001B[0m\u001B[0;34m{\u001B[0m\u001B[0;34m\"data\"\u001B[0m\u001B[0;34m:\u001B[0m \u001B[0mdata\u001B[0m\u001B[0;34m}\u001B[0m \u001B[0;32mif\u001B[0m \u001B[0mdata\u001B[0m \u001B[0;32mis\u001B[0m \u001B[0;32mnot\u001B[0m \u001B[0;32mNone\u001B[0m \u001B[0;32melse\u001B[0m \u001B[0;34m{\u001B[0m\u001B[0;34m}\u001B[0m\u001B[0;34m)\u001B[0m\u001B[0;34m,\u001B[0m\u001B[0;34m\u001B[0m\u001B[0;34m\u001B[0m\u001B[0m\n\u001B[0;32m-> 2714\u001B[0;31m         **kwargs)\n\u001B[0m\u001B[1;32m   2715\u001B[0m     \u001B[0msci\u001B[0m\u001B[0;34m(\u001B[0m\u001B[0m__ret\u001B[0m\u001B[0;34m)\u001B[0m\u001B[0;34m\u001B[0m\u001B[0;34m\u001B[0m\u001B[0m\n\u001B[1;32m   2716\u001B[0m     \u001B[0;32mreturn\u001B[0m \u001B[0m__ret\u001B[0m\u001B[0;34m\u001B[0m\u001B[0;34m\u001B[0m\u001B[0m\n",
      "\u001B[0;32m~/opt/anaconda3/envs/satellite-image-ship-detection/lib/python3.7/site-packages/matplotlib/__init__.py\u001B[0m in \u001B[0;36minner\u001B[0;34m(ax, data, *args, **kwargs)\u001B[0m\n\u001B[1;32m   1436\u001B[0m     \u001B[0;32mdef\u001B[0m \u001B[0minner\u001B[0m\u001B[0;34m(\u001B[0m\u001B[0max\u001B[0m\u001B[0;34m,\u001B[0m \u001B[0;34m*\u001B[0m\u001B[0margs\u001B[0m\u001B[0;34m,\u001B[0m \u001B[0mdata\u001B[0m\u001B[0;34m=\u001B[0m\u001B[0;32mNone\u001B[0m\u001B[0;34m,\u001B[0m \u001B[0;34m**\u001B[0m\u001B[0mkwargs\u001B[0m\u001B[0;34m)\u001B[0m\u001B[0;34m:\u001B[0m\u001B[0;34m\u001B[0m\u001B[0;34m\u001B[0m\u001B[0m\n\u001B[1;32m   1437\u001B[0m         \u001B[0;32mif\u001B[0m \u001B[0mdata\u001B[0m \u001B[0;32mis\u001B[0m \u001B[0;32mNone\u001B[0m\u001B[0;34m:\u001B[0m\u001B[0;34m\u001B[0m\u001B[0;34m\u001B[0m\u001B[0m\n\u001B[0;32m-> 1438\u001B[0;31m             \u001B[0;32mreturn\u001B[0m \u001B[0mfunc\u001B[0m\u001B[0;34m(\u001B[0m\u001B[0max\u001B[0m\u001B[0;34m,\u001B[0m \u001B[0;34m*\u001B[0m\u001B[0mmap\u001B[0m\u001B[0;34m(\u001B[0m\u001B[0msanitize_sequence\u001B[0m\u001B[0;34m,\u001B[0m \u001B[0margs\u001B[0m\u001B[0;34m)\u001B[0m\u001B[0;34m,\u001B[0m \u001B[0;34m**\u001B[0m\u001B[0mkwargs\u001B[0m\u001B[0;34m)\u001B[0m\u001B[0;34m\u001B[0m\u001B[0;34m\u001B[0m\u001B[0m\n\u001B[0m\u001B[1;32m   1439\u001B[0m \u001B[0;34m\u001B[0m\u001B[0m\n\u001B[1;32m   1440\u001B[0m         \u001B[0mbound\u001B[0m \u001B[0;34m=\u001B[0m \u001B[0mnew_sig\u001B[0m\u001B[0;34m.\u001B[0m\u001B[0mbind\u001B[0m\u001B[0;34m(\u001B[0m\u001B[0max\u001B[0m\u001B[0;34m,\u001B[0m \u001B[0;34m*\u001B[0m\u001B[0margs\u001B[0m\u001B[0;34m,\u001B[0m \u001B[0;34m**\u001B[0m\u001B[0mkwargs\u001B[0m\u001B[0;34m)\u001B[0m\u001B[0;34m\u001B[0m\u001B[0;34m\u001B[0m\u001B[0m\n",
      "\u001B[0;32m~/opt/anaconda3/envs/satellite-image-ship-detection/lib/python3.7/site-packages/matplotlib/axes/_axes.py\u001B[0m in \u001B[0;36mimshow\u001B[0;34m(self, X, cmap, norm, aspect, interpolation, alpha, vmin, vmax, origin, extent, filternorm, filterrad, resample, url, **kwargs)\u001B[0m\n\u001B[1;32m   5521\u001B[0m                               resample=resample, **kwargs)\n\u001B[1;32m   5522\u001B[0m \u001B[0;34m\u001B[0m\u001B[0m\n\u001B[0;32m-> 5523\u001B[0;31m         \u001B[0mim\u001B[0m\u001B[0;34m.\u001B[0m\u001B[0mset_data\u001B[0m\u001B[0;34m(\u001B[0m\u001B[0mX\u001B[0m\u001B[0;34m)\u001B[0m\u001B[0;34m\u001B[0m\u001B[0;34m\u001B[0m\u001B[0m\n\u001B[0m\u001B[1;32m   5524\u001B[0m         \u001B[0mim\u001B[0m\u001B[0;34m.\u001B[0m\u001B[0mset_alpha\u001B[0m\u001B[0;34m(\u001B[0m\u001B[0malpha\u001B[0m\u001B[0;34m)\u001B[0m\u001B[0;34m\u001B[0m\u001B[0;34m\u001B[0m\u001B[0m\n\u001B[1;32m   5525\u001B[0m         \u001B[0;32mif\u001B[0m \u001B[0mim\u001B[0m\u001B[0;34m.\u001B[0m\u001B[0mget_clip_path\u001B[0m\u001B[0;34m(\u001B[0m\u001B[0;34m)\u001B[0m \u001B[0;32mis\u001B[0m \u001B[0;32mNone\u001B[0m\u001B[0;34m:\u001B[0m\u001B[0;34m\u001B[0m\u001B[0;34m\u001B[0m\u001B[0m\n",
      "\u001B[0;32m~/opt/anaconda3/envs/satellite-image-ship-detection/lib/python3.7/site-packages/matplotlib/image.py\u001B[0m in \u001B[0;36mset_data\u001B[0;34m(self, A)\u001B[0m\n\u001B[1;32m    704\u001B[0m                 or self._A.ndim == 3 and self._A.shape[-1] in [3, 4]):\n\u001B[1;32m    705\u001B[0m             raise TypeError(\"Invalid shape {} for image data\"\n\u001B[0;32m--> 706\u001B[0;31m                             .format(self._A.shape))\n\u001B[0m\u001B[1;32m    707\u001B[0m \u001B[0;34m\u001B[0m\u001B[0m\n\u001B[1;32m    708\u001B[0m         \u001B[0;32mif\u001B[0m \u001B[0mself\u001B[0m\u001B[0;34m.\u001B[0m\u001B[0m_A\u001B[0m\u001B[0;34m.\u001B[0m\u001B[0mndim\u001B[0m \u001B[0;34m==\u001B[0m \u001B[0;36m3\u001B[0m\u001B[0;34m:\u001B[0m\u001B[0;34m\u001B[0m\u001B[0;34m\u001B[0m\u001B[0m\n",
      "\u001B[0;31mTypeError\u001B[0m: Invalid shape (3, 80, 80) for image data"
     ]
    },
    {
     "data": {
      "text/plain": "<Figure size 432x288 with 1 Axes>",
      "image/png": "[encoded data removed]"
     },
     "metadata": {
      "needs_background": "light"
     },
     "output_type": "display_data"
    }
   ],
   "source": [
    "plt.imshow(single_img_arr[0])"
   ],
   "metadata": {
    "collapsed": false,
    "pycharm": {
     "name": "#%%\n"
    }
   }
  },
  {
   "cell_type": "code",
   "execution_count": null,
   "outputs": [],
   "source": [],
   "metadata": {
    "collapsed": false,
    "pycharm": {
     "name": "#%%\n"
    }
   }
  }
 ]
}